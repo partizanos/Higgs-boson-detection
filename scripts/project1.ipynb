{
 "cells": [
  {
   "cell_type": "code",
   "execution_count": 2,
   "metadata": {},
   "outputs": [
    {
     "name": "stdout",
     "output_type": "stream",
     "text": [
      "The autoreload extension is already loaded. To reload it, use:\n",
      "  %reload_ext autoreload\n"
     ]
    }
   ],
   "source": [
    "# Useful starting lines\n",
    "%matplotlib inline\n",
    "import numpy as np\n",
    "import matplotlib.pyplot as plt\n",
    "%load_ext autoreload\n",
    "%autoreload 2"
   ]
  },
  {
   "cell_type": "markdown",
   "metadata": {},
   "source": [
    "## Load the training data into feature matrix, class labels, and event ids:"
   ]
  },
  {
   "cell_type": "code",
   "execution_count": 1,
   "metadata": {},
   "outputs": [],
   "source": [
    "from proj1_helpers import *\n",
    "from functions import *\n",
    "y, tX, ids = load_csv_data(\"data/train.csv\")\n",
    "y[np.where(y == -1)] = 0\n",
    "tX[np.where(tX == -999)] = np.nan"
   ]
  },
  {
   "cell_type": "markdown",
   "metadata": {},
   "source": [
    "## Do your thing crazy machine learning thing here :) ..."
   ]
  },
  {
   "cell_type": "code",
   "execution_count": 2,
   "metadata": {},
   "outputs": [],
   "source": [
    "tx = median_imputation(tX)\n",
    "tx = rearrange_continuous_categorical_features(tx)\n",
    "tx = build_poly(tx, 5, pairwise_interaction=False, intercept=False)\n",
    "tx, mean_, std_ = gaussian_scaling(tx)\n",
    "tx, todot = eigen(tx)\n",
    "x_train, x_validation, y_train, y_validation = split_data(y, tx, 0.8, seed=1)"
   ]
  },
  {
   "cell_type": "code",
   "execution_count": null,
   "metadata": {},
   "outputs": [],
   "source": [
    "newton_loss, newton_w, newton_grad_norm = logistic_newton_descent(y_train,\n",
    "                                                                  x_train,\n",
    "                                                                  w=np.zeros(x_train.shape[1]),\n",
    "                                                                  lambda_=0.5,\n",
    "                                                                  max_iters=100,\n",
    "                                                                  eps=1e-6,\n",
    "                                                                  w_start_OLS=True)"
   ]
  },
  {
   "cell_type": "code",
   "execution_count": null,
   "metadata": {},
   "outputs": [],
   "source": [
    "thresh = threshold(y_train, sigmoid(x_train@newton_w))\n",
    "pred = sigmoid(x_train@newton_w)\n",
    "pred = (pred>thresh)*1\n",
    "print(f\"In sample performance : {1 - sum(np.abs(pred - y_train))/len(y_train)}\")"
   ]
  },
  {
   "cell_type": "code",
   "execution_count": null,
   "metadata": {},
   "outputs": [],
   "source": [
    "pred = sigmoid(x_validation@newton_w)\n",
    "pred = (pred>thresh)*1\n",
    "print(f\"Out of sample performance : {1 - sum(np.abs(pred - y_validation))/len(y_validation)}\")"
   ]
  },
  {
   "cell_type": "code",
   "execution_count": 26,
   "metadata": {},
   "outputs": [
    {
     "data": {
      "text/plain": [
       "0.02318274462619573"
      ]
     },
     "execution_count": 26,
     "metadata": {},
     "output_type": "execute_result"
    }
   ],
   "source": [
    "newton_grad_norm"
   ]
  },
  {
   "cell_type": "markdown",
   "metadata": {},
   "source": [
    "# Recompute on the full dataset"
   ]
  },
  {
   "cell_type": "code",
   "execution_count": 11,
   "metadata": {},
   "outputs": [
    {
     "name": "stderr",
     "output_type": "stream",
     "text": [
      "[autoreload of functions failed: Traceback (most recent call last):\n",
      "  File \"/opt/anaconda3/lib/python3.7/site-packages/IPython/extensions/autoreload.py\", line 245, in check\n",
      "    superreload(m, reload, self.old_objects)\n",
      "  File \"/opt/anaconda3/lib/python3.7/site-packages/IPython/extensions/autoreload.py\", line 394, in superreload\n",
      "    module = reload(module)\n",
      "  File \"/opt/anaconda3/lib/python3.7/imp.py\", line 314, in reload\n",
      "    return importlib.reload(module)\n",
      "  File \"/opt/anaconda3/lib/python3.7/importlib/__init__.py\", line 169, in reload\n",
      "    _bootstrap._exec(spec, module)\n",
      "  File \"<frozen importlib._bootstrap>\", line 630, in _exec\n",
      "  File \"<frozen importlib._bootstrap_external>\", line 724, in exec_module\n",
      "  File \"<frozen importlib._bootstrap_external>\", line 860, in get_code\n",
      "  File \"<frozen importlib._bootstrap_external>\", line 791, in source_to_code\n",
      "  File \"<frozen importlib._bootstrap>\", line 219, in _call_with_frames_removed\n",
      "  File \"/Users/kylian/Documents/GitHub/HBP/scripts/functions.py\", line 221\n",
      "    def logistic_newton_descent(y, tx, w, max_iters, eps=1e-4, w_start_OLS=True):\n",
      "      ^\n",
      "SyntaxError: invalid syntax\n",
      "]\n"
     ]
    },
    {
     "name": "stdout",
     "output_type": "stream",
     "text": [
      "Progress : 76.6%                  \r"
     ]
    },
    {
     "ename": "KeyboardInterrupt",
     "evalue": "",
     "output_type": "error",
     "traceback": [
      "\u001b[0;31m---------------------------------------------------------------------------\u001b[0m",
      "\u001b[0;31mKeyboardInterrupt\u001b[0m                         Traceback (most recent call last)",
      "\u001b[0;32m<ipython-input-11-8e34444659d2>\u001b[0m in \u001b[0;36m<module>\u001b[0;34m\u001b[0m\n\u001b[1;32m      4\u001b[0m \u001b[0mtx\u001b[0m \u001b[0;34m=\u001b[0m \u001b[0mmedian_imputation\u001b[0m\u001b[0;34m(\u001b[0m\u001b[0mtX\u001b[0m\u001b[0;34m)\u001b[0m\u001b[0;34m\u001b[0m\u001b[0;34m\u001b[0m\u001b[0m\n\u001b[1;32m      5\u001b[0m \u001b[0mtx\u001b[0m \u001b[0;34m=\u001b[0m \u001b[0mrearrange_continuous_categorical_features\u001b[0m\u001b[0;34m(\u001b[0m\u001b[0mtx\u001b[0m\u001b[0;34m)\u001b[0m\u001b[0;34m\u001b[0m\u001b[0;34m\u001b[0m\u001b[0m\n\u001b[0;32m----> 6\u001b[0;31m \u001b[0mtx\u001b[0m \u001b[0;34m=\u001b[0m \u001b[0mbuild_poly\u001b[0m\u001b[0;34m(\u001b[0m\u001b[0mtx\u001b[0m\u001b[0;34m,\u001b[0m \u001b[0;36m5\u001b[0m\u001b[0;34m,\u001b[0m \u001b[0mpairwise_interaction\u001b[0m\u001b[0;34m=\u001b[0m\u001b[0;32mTrue\u001b[0m\u001b[0;34m,\u001b[0m \u001b[0mintercept\u001b[0m\u001b[0;34m=\u001b[0m\u001b[0;32mFalse\u001b[0m\u001b[0;34m)\u001b[0m\u001b[0;34m\u001b[0m\u001b[0;34m\u001b[0m\u001b[0m\n\u001b[0m\u001b[1;32m      7\u001b[0m \u001b[0mtx\u001b[0m\u001b[0;34m,\u001b[0m \u001b[0mmean_\u001b[0m\u001b[0;34m,\u001b[0m \u001b[0mstd_\u001b[0m \u001b[0;34m=\u001b[0m \u001b[0mgaussian_scaling\u001b[0m\u001b[0;34m(\u001b[0m\u001b[0mtx\u001b[0m\u001b[0;34m)\u001b[0m\u001b[0;34m\u001b[0m\u001b[0;34m\u001b[0m\u001b[0m\n\u001b[1;32m      8\u001b[0m \u001b[0mtx\u001b[0m\u001b[0;34m,\u001b[0m \u001b[0mtodot\u001b[0m \u001b[0;34m=\u001b[0m \u001b[0meigen\u001b[0m\u001b[0;34m(\u001b[0m\u001b[0mtx\u001b[0m\u001b[0;34m)\u001b[0m\u001b[0;34m\u001b[0m\u001b[0;34m\u001b[0m\u001b[0m\n",
      "\u001b[0;32m~/Documents/GitHub/HBP/scripts/functions.py\u001b[0m in \u001b[0;36mbuild_poly\u001b[0;34m(x, degree, pairwise_interaction, intercept, max_categories)\u001b[0m\n\u001b[1;32m    347\u001b[0m                     augmented_x = np.c_[augmented_x, np.multiply(\n\u001b[1;32m    348\u001b[0m                         continuous_variables[:, j], continuous_variables[:, k])]\n\u001b[0;32m--> 349\u001b[0;31m                     \u001b[0mcounter\u001b[0m \u001b[0;34m+=\u001b[0m \u001b[0;36m1\u001b[0m\u001b[0;34m\u001b[0m\u001b[0;34m\u001b[0m\u001b[0m\n\u001b[0m\u001b[1;32m    350\u001b[0m                     print(\n\u001b[1;32m    351\u001b[0m                         f\"Progress : {round((counter/nb_pairs)*100, 2)}%                 \\r\", end=\"\")\n",
      "\u001b[0;32m/opt/anaconda3/lib/python3.7/site-packages/numpy/lib/index_tricks.py\u001b[0m in \u001b[0;36m__getitem__\u001b[0;34m(self, key)\u001b[0m\n\u001b[1;32m    404\u001b[0m                 \u001b[0mobjs\u001b[0m\u001b[0;34m[\u001b[0m\u001b[0mk\u001b[0m\u001b[0;34m]\u001b[0m \u001b[0;34m=\u001b[0m \u001b[0mobjs\u001b[0m\u001b[0;34m[\u001b[0m\u001b[0mk\u001b[0m\u001b[0;34m]\u001b[0m\u001b[0;34m.\u001b[0m\u001b[0mastype\u001b[0m\u001b[0;34m(\u001b[0m\u001b[0mfinal_dtype\u001b[0m\u001b[0;34m)\u001b[0m\u001b[0;34m\u001b[0m\u001b[0;34m\u001b[0m\u001b[0m\n\u001b[1;32m    405\u001b[0m \u001b[0;34m\u001b[0m\u001b[0m\n\u001b[0;32m--> 406\u001b[0;31m         \u001b[0mres\u001b[0m \u001b[0;34m=\u001b[0m \u001b[0mself\u001b[0m\u001b[0;34m.\u001b[0m\u001b[0mconcatenate\u001b[0m\u001b[0;34m(\u001b[0m\u001b[0mtuple\u001b[0m\u001b[0;34m(\u001b[0m\u001b[0mobjs\u001b[0m\u001b[0;34m)\u001b[0m\u001b[0;34m,\u001b[0m \u001b[0maxis\u001b[0m\u001b[0;34m=\u001b[0m\u001b[0maxis\u001b[0m\u001b[0;34m)\u001b[0m\u001b[0;34m\u001b[0m\u001b[0;34m\u001b[0m\u001b[0m\n\u001b[0m\u001b[1;32m    407\u001b[0m \u001b[0;34m\u001b[0m\u001b[0m\n\u001b[1;32m    408\u001b[0m         \u001b[0;32mif\u001b[0m \u001b[0mmatrix\u001b[0m\u001b[0;34m:\u001b[0m\u001b[0;34m\u001b[0m\u001b[0;34m\u001b[0m\u001b[0m\n",
      "\u001b[0;32m<__array_function__ internals>\u001b[0m in \u001b[0;36mconcatenate\u001b[0;34m(*args, **kwargs)\u001b[0m\n",
      "\u001b[0;31mKeyboardInterrupt\u001b[0m: "
     ]
    }
   ],
   "source": [
    "y, tX, ids = load_csv_data(\"data/train.csv\")\n",
    "y[np.where(y == -1)] = 0\n",
    "tX[np.where(tX == -999)] = np.nan\n",
    "tx = median_imputation(tX)\n",
    "tx = rearrange_continuous_categorical_features(tx)\n",
    "tx = build_poly(tx, 5, pairwise_interaction=True, intercept=False)\n",
    "tx, mean_, std_ = gaussian_scaling(tx)\n",
    "tx, todot = eigen(tx)"
   ]
  },
  {
   "cell_type": "code",
   "execution_count": 28,
   "metadata": {},
   "outputs": [
    {
     "name": "stdout",
     "output_type": "stream",
     "text": [
      "Maximum progress reached until divergence.                        \n"
     ]
    },
    {
     "name": "stderr",
     "output_type": "stream",
     "text": [
      "C:\\Users\\Antek\\GitHub\\HBP\\scripts\\functions.py:187: RuntimeWarning: overflow encountered in exp\n",
      "  return 1.0 / (1 + np.exp(-x))\n",
      "C:\\Users\\Antek\\GitHub\\HBP\\scripts\\functions.py:194: RuntimeWarning: divide by zero encountered in log\n",
      "  (1 - y).T.dot(np.log(1 - proba)))\n"
     ]
    }
   ],
   "source": [
    "newton_loss, newton_w, newton_grad_norm = logistic_newton_descent(y_train,\n",
    "                                                                  x_train,\n",
    "                                                                  w=np.zeros(x_train.shape[1]),\n",
    "                                                                  max_iters=100,\n",
    "                                                                  eps=1e-6,\n",
    "                                                                  w_start_OLS=True)"
   ]
  },
  {
   "cell_type": "code",
   "execution_count": 54,
   "metadata": {},
   "outputs": [
    {
     "name": "stdout",
     "output_type": "stream",
     "text": [
      "max_iters reached.                        \n"
     ]
    },
    {
     "name": "stderr",
     "output_type": "stream",
     "text": [
      "C:\\Users\\Antek\\GitHub\\HBP\\scripts\\functions.py:194: RuntimeWarning: divide by zero encountered in log\n",
      "  (1 - y).T.dot(np.log(1 - proba)))\n"
     ]
    }
   ],
   "source": [
    "GD_loss, GD_w, GD_grad_norm = logistic_gradient_descent(y,\n",
    "                                                        tx,\n",
    "                                                        w=GD_w,\n",
    "                                                        max_iters=10000,\n",
    "                                                        gamma=0.05,\n",
    "                                                        eps=1e-4,\n",
    "                                                        w_start_OLS=False)"
   ]
  },
  {
   "cell_type": "code",
   "execution_count": 55,
   "metadata": {},
   "outputs": [
    {
     "name": "stdout",
     "output_type": "stream",
     "text": [
      "In sample performance : 0.829132\n"
     ]
    }
   ],
   "source": [
    "thresh = threshold(y, sigmoid(tx@GD_w), step=0.001)\n",
    "pred = sigmoid(tx@GD_w)\n",
    "pred = (pred>thresh)*1\n",
    "print(f\"In sample performance : {1 - sum(np.abs(pred - y))/len(y)}\")"
   ]
  },
  {
   "cell_type": "markdown",
   "metadata": {},
   "source": [
    "# Ready to publish"
   ]
  },
  {
   "cell_type": "code",
   "execution_count": null,
   "metadata": {},
   "outputs": [],
   "source": [
    "tx = median_imputation(tX)\n",
    "tx = rearrange_continuous_categorical_features(tx)\n",
    "tx = build_poly(tx, 5, pairwise_interaction=True, intercept=False)\n",
    "tx, mean_, std_ = gaussian_scaling(tx)\n",
    "tx, todot = eigen(tx)"
   ]
  },
  {
   "cell_type": "code",
   "execution_count": 46,
   "metadata": {},
   "outputs": [
    {
     "name": "stdout",
     "output_type": "stream",
     "text": [
      "Progress : 100.0%                 \r"
     ]
    }
   ],
   "source": [
    "_, x_test, ids_test = load_csv_data(\"data/test.csv\")\n",
    "x_test[np.where(x_test == -999)] = np.nan\n",
    "x_test = median_imputation(x_test)\n",
    "x_test = rearrange_continuous_categorical_features(x_test)\n",
    "x_test = build_poly(x_test, 5, pairwise_interaction=True, intercept=False)\n",
    "x_test = (x_test - mean_) / std_\n",
    "x_test = x_test.dot(todot)"
   ]
  },
  {
   "cell_type": "code",
   "execution_count": 56,
   "metadata": {},
   "outputs": [],
   "source": [
    "#create prediction\n",
    "y_pred = sigmoid(x_test@GD_w)\n",
    "y_pred = (y_pred>thresh)*1"
   ]
  },
  {
   "cell_type": "code",
   "execution_count": 57,
   "metadata": {},
   "outputs": [
    {
     "name": "stdout",
     "output_type": "stream",
     "text": [
      "0.4626987845121832\n"
     ]
    }
   ],
   "source": [
    "y_pred[np.where(y_pred == 0)] = -1\n",
    "print(len(y_pred[np.where(y_pred == 1)])/len(y_pred[np.where(y_pred == -1)]))"
   ]
  },
  {
   "cell_type": "code",
   "execution_count": 58,
   "metadata": {},
   "outputs": [],
   "source": [
    "create_csv_submission(ids_test, y_pred, \"anthony_submission_06_10_8.csv\")"
   ]
  },
  {
   "cell_type": "code",
   "execution_count": null,
   "metadata": {},
   "outputs": [],
   "source": [
    "GD_loss, GD_w, GD_grad_norm = logistic_gradient_descent(y,\n",
    "                                                        tx,\n",
    "                                                        w=np.zeros(tx.shape[1]),\n",
    "                                                        max_iters=100,\n",
    "                                                        gamma=0.5,\n",
    "                                                        eps=1e-4,\n",
    "                                                        w_start_OLS=True)"
   ]
  },
  {
   "cell_type": "code",
   "execution_count": null,
   "metadata": {},
   "outputs": [],
   "source": [
    "SGD_loss, SGD_w, SGD_grad_norm = logistic_stochastic_gradient_descent(y,\n",
    "                                                                      tx,\n",
    "                                                                      w=np.zeros(tx.shape[1]),\n",
    "                                                                      max_iters=100,\n",
    "                                                                      gamma=0.5,\n",
    "                                                                      batch_size=1,\n",
    "                                                                      w_start_OLS=True)"
   ]
  },
  {
   "cell_type": "code",
   "execution_count": null,
   "metadata": {},
   "outputs": [],
   "source": []
  },
  {
   "cell_type": "code",
   "execution_count": null,
   "metadata": {},
   "outputs": [],
   "source": []
  },
  {
   "cell_type": "code",
   "execution_count": null,
   "metadata": {},
   "outputs": [],
   "source": []
  },
  {
   "cell_type": "code",
   "execution_count": null,
   "metadata": {},
   "outputs": [],
   "source": []
  },
  {
   "cell_type": "code",
   "execution_count": null,
   "metadata": {},
   "outputs": [],
   "source": []
  },
  {
   "cell_type": "code",
   "execution_count": null,
   "metadata": {},
   "outputs": [],
   "source": []
  },
  {
   "cell_type": "code",
   "execution_count": null,
   "metadata": {},
   "outputs": [],
   "source": []
  },
  {
   "cell_type": "code",
   "execution_count": null,
   "metadata": {},
   "outputs": [],
   "source": []
  },
  {
   "cell_type": "code",
   "execution_count": null,
   "metadata": {},
   "outputs": [],
   "source": []
  },
  {
   "cell_type": "code",
   "execution_count": null,
   "metadata": {},
   "outputs": [],
   "source": []
  },
  {
   "cell_type": "code",
   "execution_count": null,
   "metadata": {},
   "outputs": [],
   "source": []
  },
  {
   "cell_type": "markdown",
   "metadata": {},
   "source": [
    "## Generate predictions and save ouput in csv format for submission:"
   ]
  },
  {
   "cell_type": "code",
   "execution_count": null,
   "metadata": {},
   "outputs": [],
   "source": [
    "DATA_TEST_PATH = '' # TODO: download train data and supply path here \n",
    "_, tX_test, ids_test = load_csv_data(DATA_TEST_PATH)"
   ]
  },
  {
   "cell_type": "code",
   "execution_count": null,
   "metadata": {},
   "outputs": [],
   "source": [
    "OUTPUT_PATH = '' # TODO: fill in desired name of output file for submission\n",
    "y_pred = predict_labels(weights, tX_test)\n",
    "create_csv_submission(ids_test, y_pred, OUTPUT_PATH)"
   ]
  },
  {
   "cell_type": "code",
   "execution_count": null,
   "metadata": {},
   "outputs": [],
   "source": []
  }
 ],
 "metadata": {
  "anaconda-cloud": {},
  "kernelspec": {
   "display_name": "Python 3",
   "language": "python",
   "name": "python3"
  },
  "language_info": {
   "codemirror_mode": {
    "name": "ipython",
    "version": 3
   },
   "file_extension": ".py",
   "mimetype": "text/x-python",
   "name": "python",
   "nbconvert_exporter": "python",
   "pygments_lexer": "ipython3",
   "version": "3.7.4"
  },
  "toc": {
   "base_numbering": 1,
   "nav_menu": {},
   "number_sections": true,
   "sideBar": true,
   "skip_h1_title": false,
   "title_cell": "Table of Contents",
   "title_sidebar": "Contents",
   "toc_cell": false,
   "toc_position": {
    "height": "calc(100% - 180px)",
    "left": "10px",
    "top": "150px",
    "width": "471.6px"
   },
   "toc_section_display": true,
   "toc_window_display": false
  }
 },
 "nbformat": 4,
 "nbformat_minor": 1
}
