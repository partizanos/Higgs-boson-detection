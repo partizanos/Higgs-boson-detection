{
 "cells": [
  {
   "cell_type": "code",
   "execution_count": 2,
   "metadata": {},
   "outputs": [],
   "source": [
    "import numpy as np\n",
    "import matplotlib.pyplot as plt\n",
    "from extra_helpers import *\n",
    "from feature_importance import *\n",
    "from proj1_helpers import *\n",
    "from data_processing import *\n",
    "from implementations import *\n",
    "from objective_functions import *\n",
    "from run_functions import *"
   ]
  },
  {
   "cell_type": "markdown",
   "metadata": {},
   "source": [
    "## Removing constant features and imputing"
   ]
  },
  {
   "cell_type": "code",
   "execution_count": 3,
   "metadata": {},
   "outputs": [],
   "source": [
    "## 1 - Data importation.\n",
    "y, tX, ids = load_csv_data(\"data/train.csv\")\n",
    "\n",
    "## 2 - Changing \"-1\" to \"0\" in the response vector\n",
    "##     to be in phase with the major part of the scientific literature.\n",
    "y[np.where(y == -1)] = 0\n",
    "\n",
    "## 3 - Sending the categorical feature (PRI_jet_num) as the last column of the data matrix\n",
    "##     using the rearrange_continuous_categorical_features() function.\n",
    "tX = rearrange_continuous_categorical_features(tX)\n",
    "\n",
    "## 1 - Knowing that the last column is the categorical feature, we isolate this column\n",
    "##     and identify the indexes for each cases, i.e. PRI_jet_num = 0, 1, 2 or 3.\n",
    "categories = tX[:, -1]\n",
    "zeros_index = np.where(categories == 0)[0]\n",
    "one_index = np.where(categories == 1)[0]\n",
    "two_index = np.where(categories == 2)[0]\n",
    "three_index = np.where(categories == 3)[0]\n",
    "\n",
    "zeros = tX[zeros_index, :]\n",
    "y_zero = y[zeros_index]\n",
    "null_var_index_zero = np.where(np.std(zeros, axis=0) == 0)[0]\n",
    "zeros = np.delete(zeros, null_var_index_zero, axis=1)\n",
    "zeros[np.where(zeros == -999)] = np.nan\n",
    "zeros = median_imputation(zeros)\n",
    "\n",
    "ones = tX[one_index, :]\n",
    "y_one = y[one_index]\n",
    "null_var_index_one = np.where(np.std(ones, axis=0) == 0)[0]\n",
    "ones = np.delete(ones, null_var_index_one, axis=1)\n",
    "ones[np.where(ones == -999)] = np.nan\n",
    "ones = median_imputation(ones)\n",
    "\n",
    "two = tX[two_index, :]\n",
    "y_two = y[two_index]\n",
    "null_var_index_two = np.where(np.std(two, axis=0) == 0)[0]\n",
    "two = np.delete(two, null_var_index_two, axis=1)\n",
    "two[np.where(two == -999)] = np.nan\n",
    "two = median_imputation(two)\n",
    "\n",
    "three = tX[three_index, :]\n",
    "y_three = y[three_index]\n",
    "null_var_index_three = np.where(np.std(three, axis=0) == 0)[0]\n",
    "three = np.delete(three, null_var_index_three, axis=1)\n",
    "three[np.where(three == -999)] = np.nan\n",
    "three = median_imputation(three)"
   ]
  },
  {
   "cell_type": "markdown",
   "metadata": {},
   "source": [
    "## Percentage of Higgs boson signals"
   ]
  },
  {
   "cell_type": "code",
   "execution_count": 7,
   "metadata": {},
   "outputs": [
    {
     "name": "stdout",
     "output_type": "stream",
     "text": [
      "Percentage of Higgs boson signals when PRI jet num = 0 : 25.51%\n",
      "\n",
      "Percentage of Higgs boson signals when PRI jet num = 1 : 35.73%\n",
      "\n",
      "Percentage of Higgs boson signals when PRI jet num = 2 : 51.08%\n",
      "\n",
      "Percentage of Higgs boson signals when PRI jet num = 3 : 30.37%\n"
     ]
    }
   ],
   "source": [
    "print(\"Percentage of Higgs boson signals when PRI jet num = 0 : {}%\".format(round(100*len(y_zero[np.where(y_zero == 1)])/len(y_zero), 2)))\n",
    "print(\"\")\n",
    "print(\"Percentage of Higgs boson signals when PRI jet num = 1 : {}%\".format(round(100*len(y_one[np.where(y_one == 1)])/len(y_one), 2)))\n",
    "print(\"\")\n",
    "print(\"Percentage of Higgs boson signals when PRI jet num = 2 : {}%\".format(round(100*len(y_two[np.where(y_two == 1)])/len(y_two), 2)))\n",
    "print(\"\")\n",
    "print(\"Percentage of Higgs boson signals when PRI jet num = 3 : {}%\".format(round(100*len(y_three[np.where(y_three == 1)])/len(y_three), 2)))"
   ]
  },
  {
   "cell_type": "markdown",
   "metadata": {},
   "source": [
    "## Skewnesses"
   ]
  },
  {
   "cell_type": "code",
   "execution_count": 8,
   "metadata": {},
   "outputs": [
    {
     "name": "stdout",
     "output_type": "stream",
     "text": [
      "Skewness when PRI jet num = 0 : \n",
      "\n",
      " [ 3.32210970e+00  6.75710692e-01  3.00318472e+00  4.91895516e+01\n",
      " -7.14605318e-01  4.91895519e+01  4.65605776e+00  1.03876731e+00\n",
      "  1.81590440e+00  4.12353948e+00  3.19948264e-02  2.14761578e-02\n",
      "  2.85321143e+00  4.74951711e-02 -4.51553490e-02  2.76416777e+01\n",
      "  2.29980818e-02  1.05309562e+00]\n",
      "\n",
      "Skewness when PRI jet num = 1 : \n",
      "\n",
      " [ 3.93743706e+00  1.36595160e+00  3.56960446e+00  2.90229506e+00\n",
      " -7.96101507e-02  2.10482402e+00  3.22864384e+00  2.07951502e+00\n",
      " -3.52990443e-01  3.30608143e+00  1.30196484e-02  1.40723733e-02\n",
      "  2.72262348e+00  8.76503388e-03 -5.03918342e-02  2.80466277e+00\n",
      "  9.49795155e-04  1.81118494e+00  3.33666979e+00  6.52163323e-03\n",
      "  1.80845587e-02  3.33666972e+00]\n",
      "\n",
      "Skewness when PRI jet num = 2 : \n",
      "\n",
      " [ 4.70155483e+00  2.03161213e+00  4.62046124e+00  1.64401738e+00\n",
      "  4.38950974e-01  2.32664185e+00 -2.60638936e-01  3.01166130e-01\n",
      "  3.43361519e+00  2.11196422e+00  2.55295640e+00 -1.00600705e+00\n",
      " -7.39741802e-02  3.12669617e+00  7.88549329e-03 -5.59783733e-04\n",
      "  2.71780498e+00  8.55388452e-03 -4.17100894e-02  2.33563610e+00\n",
      " -1.62640663e-03  1.55256127e+00  2.24126450e+00 -9.49569968e-03\n",
      "  1.85873898e-02  3.07403208e+00 -3.20593692e-03 -1.26970737e-03\n",
      "  2.11355636e+00]\n",
      "\n",
      "Skewness when PRI jet num = 3 : \n",
      "\n",
      " [ 4.47904329e+00  2.21842521e+00  4.79173683e+00  1.42988331e+00\n",
      "  8.09063184e-01  2.62599259e+00 -1.66086322e-01  5.59436892e-01\n",
      "  2.05938177e+00  1.93143789e+00  2.84591347e+00 -9.78431125e-01\n",
      "  4.15967587e-01  3.10124704e+00 -3.51350960e-03  1.18000623e-02\n",
      "  2.79705891e+00 -1.49747414e-03 -4.12993720e-02  2.04210384e+00\n",
      " -1.41588659e-02  1.63851182e+00  2.16006859e+00 -7.63924487e-03\n",
      "  8.22560000e-03  3.20492044e+00 -8.95905749e-03  1.46214529e-02\n",
      "  2.16774258e+00]\n"
     ]
    }
   ],
   "source": [
    "print(f\"Skewness when PRI jet num = 0 : \\n\\n {skewness(zeros)}\")\n",
    "print(\"\")\n",
    "print(f\"Skewness when PRI jet num = 1 : \\n\\n {skewness(ones)}\")\n",
    "print(\"\")\n",
    "print(f\"Skewness when PRI jet num = 2 : \\n\\n {skewness(two)}\")\n",
    "print(\"\")\n",
    "print(f\"Skewness when PRI jet num = 3 : \\n\\n {skewness(three)}\")"
   ]
  },
  {
   "cell_type": "markdown",
   "metadata": {},
   "source": [
    "## Showing the dispersion of missing values across PRI jet num states"
   ]
  },
  {
   "cell_type": "code",
   "execution_count": 9,
   "metadata": {},
   "outputs": [],
   "source": [
    "## 2 - We isolate the four different datasets corresponding to the different cases of PRI_jet_num.\n",
    "##   - For each of them we transform all -999 values to np.nan. \n",
    "zeros = tX[zeros_index, :]\n",
    "y_zero = y[zeros_index]\n",
    "zeros[np.where(zeros == -999)] = np.nan\n",
    "\n",
    "ones = tX[one_index, :]\n",
    "y_one = y[one_index]\n",
    "ones[np.where(ones == -999)] = np.nan\n",
    "\n",
    "two = tX[two_index, :]\n",
    "y_two = y[two_index]\n",
    "two[np.where(two == -999)] = np.nan\n",
    "\n",
    "three = tX[three_index, :]\n",
    "y_three = y[three_index]\n",
    "three[np.where(three == -999)] = np.nan"
   ]
  },
  {
   "cell_type": "code",
   "execution_count": 10,
   "metadata": {},
   "outputs": [
    {
     "name": "stdout",
     "output_type": "stream",
     "text": [
      "Missing values when PRI jet num = 0 : \n",
      "\n",
      " [26123     0     0     0 99913 99913 99913     0     0     0     0     0\n",
      " 99913     0     0     0     0     0     0     0     0     0 99913 99913\n",
      " 99913 99913 99913 99913     0     0]\n",
      "\n",
      "Missing values when PRI jet num = 1 : \n",
      "\n",
      " [ 7562     0     0     0 77544 77544 77544     0     0     0     0     0\n",
      " 77544     0     0     0     0     0     0     0     0     0     0     0\n",
      "     0 77544 77544 77544     0     0]\n",
      "\n",
      "Missing values when PRI jet num = 2 : \n",
      "\n",
      " [2952    0    0    0    0    0    0    0    0    0    0    0    0    0\n",
      "    0    0    0    0    0    0    0    0    0    0    0    0    0    0\n",
      "    0    0]\n",
      "\n",
      "Missing values when PRI jet num = 3 : \n",
      "\n",
      " [1477    0    0    0    0    0    0    0    0    0    0    0    0    0\n",
      "    0    0    0    0    0    0    0    0    0    0    0    0    0    0\n",
      "    0    0]\n"
     ]
    }
   ],
   "source": [
    "print(f\"Missing values when PRI jet num = 0 : \\n\\n {sum(np.isnan(zeros))}\")\n",
    "print(\"\")\n",
    "print(f\"Missing values when PRI jet num = 1 : \\n\\n {sum(np.isnan(ones))}\")\n",
    "print(\"\")\n",
    "print(f\"Missing values when PRI jet num = 2 : \\n\\n {sum(np.isnan(two))}\")\n",
    "print(\"\")\n",
    "print(f\"Missing values when PRI jet num = 3 : \\n\\n {sum(np.isnan(three))}\")"
   ]
  },
  {
   "cell_type": "markdown",
   "metadata": {},
   "source": [
    "## Showing that given a state of PRI jet num, we have different significant features"
   ]
  },
  {
   "cell_type": "code",
   "execution_count": 11,
   "metadata": {},
   "outputs": [
    {
     "name": "stderr",
     "output_type": "stream",
     "text": [
      "C:\\Users\\Antek\\GitHub\\HBP\\scripts\\feature_importance.py:29: RuntimeWarning: invalid value encountered in double_scalars\n",
      "  test = t_mean/np.sqrt(t_var)\n"
     ]
    },
    {
     "name": "stdout",
     "output_type": "stream",
     "text": [
      "Significant features at 50% when PRI jet num = 0 : \n",
      "\n",
      " [0 1 1 1 0 0 0 1 1 1 1 1 0 1 1 1 1 1 0 1 1 1 0 0 0 0 0 0 0 0]\n",
      "\n",
      "Significant features at 50% when PRI jet num = 1 : \n",
      "\n",
      " [0 1 1 1 0 0 0 1 1 1 1 1 0 1 1 1 1 1 1 1 1 1 1 0 0 0 0 0 1 0]\n",
      "\n",
      "Significant features at 50% when PRI jet num = 2 : \n",
      "\n",
      " [0 1 1 1 1 1 1 1 1 1 1 1 1 1 1 0 1 1 1 1 1 1 1 1 0 1 0 1 1 0]\n",
      "\n",
      "Significant features at 50% when PRI jet num = 3 : \n",
      "\n",
      " [0 1 1 1 1 1 1 1 1 1 1 1 1 1 1 0 0 1 1 1 0 0 1 0 1 1 1 0 1 0]\n"
     ]
    }
   ],
   "source": [
    "print(f\"Significant features at 50% when PRI jet num = 0 : \\n\\n {significant_features(y_zero, zeros)}\")\n",
    "print(\"\")\n",
    "print(f\"Significant features at 50% when PRI jet num = 1 : \\n\\n {significant_features(y_one, ones)}\")\n",
    "print(\"\")\n",
    "print(f\"Significant features at 50% when PRI jet num = 2 : \\n\\n {significant_features(y_two, two)}\")\n",
    "print(\"\")\n",
    "print(f\"Significant features at 50% when PRI jet num = 3 : \\n\\n {significant_features(y_three, three)}\")"
   ]
  }
 ],
 "metadata": {
  "kernelspec": {
   "display_name": "Python 3",
   "language": "python",
   "name": "python3"
  },
  "language_info": {
   "codemirror_mode": {
    "name": "ipython",
    "version": 3
   },
   "file_extension": ".py",
   "mimetype": "text/x-python",
   "name": "python",
   "nbconvert_exporter": "python",
   "pygments_lexer": "ipython3",
   "version": "3.8.5"
  },
  "toc": {
   "base_numbering": 1,
   "nav_menu": {},
   "number_sections": true,
   "sideBar": true,
   "skip_h1_title": false,
   "title_cell": "Table of Contents",
   "title_sidebar": "Contents",
   "toc_cell": false,
   "toc_position": {},
   "toc_section_display": true,
   "toc_window_display": false
  }
 },
 "nbformat": 4,
 "nbformat_minor": 4
}
